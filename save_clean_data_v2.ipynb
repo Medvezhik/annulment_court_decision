{
 "cells": [
  {
   "cell_type": "code",
   "execution_count": 1,
   "metadata": {
    "_cell_guid": "b1076dfc-b9ad-4769-8c92-a6c4dae69d19",
    "_uuid": "8f2839f25d086af736a60e9eeb907d3b93b6e0e5"
   },
   "outputs": [],
   "source": [
    "import numpy as np\n",
    "import pandas as pd\n",
    "import re"
   ]
  },
  {
   "cell_type": "code",
   "execution_count": null,
   "metadata": {},
   "outputs": [],
   "source": [
    "def verdict_to_int(verdict_str):\n",
    "    if 'Оставить' in verdict_str.split():\n",
    "        return 0\n",
    "    if (('Отменить' in verdict_str.split()) \n",
    "          or ('Изменить' in verdict_str.split())):\n",
    "        return 1\n",
    "\n",
    "def len_txt(text):\n",
    "    len_t = len(str(text).split())\n",
    "    return len_t"
   ]
  },
  {
   "cell_type": "code",
   "execution_count": 2,
   "metadata": {
    "_cell_guid": "a64f2955-1822-4c7d-80e8-12ec3301c74a",
    "_uuid": "1aebaadc942ae8531c6de32eec1849b61d772a45"
   },
   "outputs": [],
   "source": [
    "data1 = pd.read_csv('mosgorsud.csv')\n",
    "data2 = pd.read_csv('mosgorsud01.csv')\n",
    "data3 = pd.read_csv('mosgorsud02.csv')\n",
    "data4 = pd.read_csv('mosgorsud03.csv')\n",
    "\n",
    "data = pd.concat([data1, data2, data3, data4])"
   ]
  },
  {
   "cell_type": "code",
   "execution_count": 3,
   "metadata": {},
   "outputs": [
    {
     "name": "stdout",
     "output_type": "stream",
     "text": [
      "<class 'pandas.core.frame.DataFrame'>\n",
      "Int64Index: 82145 entries, 0 to 21026\n",
      "Data columns (total 10 columns):\n",
      " #   Column      Non-Null Count  Dtype \n",
      "---  ------      --------------  ----- \n",
      " 0   id          82048 non-null  object\n",
      " 1   side        82145 non-null  object\n",
      " 2   date1       82145 non-null  object\n",
      " 3   date2       82145 non-null  object\n",
      " 4   category    82095 non-null  object\n",
      " 5   status      82145 non-null  object\n",
      " 6   verdict     7289 non-null   object\n",
      " 7   verdict_up  82145 non-null  object\n",
      " 8   reason      16715 non-null  object\n",
      " 9   text        82145 non-null  object\n",
      "dtypes: object(10)\n",
      "memory usage: 6.9+ MB\n"
     ]
    }
   ],
   "source": [
    "data.info()"
   ]
  },
  {
   "cell_type": "code",
   "execution_count": 4,
   "metadata": {},
   "outputs": [],
   "source": [
    "data.drop_duplicates(inplace=True)\n",
    "data['target'] = data['verdict_up'].apply(verdict_to_int)\n",
    "data = data[data['target'].notna()]"
   ]
  },
  {
   "cell_type": "code",
   "execution_count": 5,
   "metadata": {},
   "outputs": [
    {
     "name": "stdout",
     "output_type": "stream",
     "text": [
      "<class 'pandas.core.frame.DataFrame'>\n",
      "Int64Index: 72043 entries, 0 to 21025\n",
      "Data columns (total 11 columns):\n",
      " #   Column      Non-Null Count  Dtype  \n",
      "---  ------      --------------  -----  \n",
      " 0   id          71953 non-null  object \n",
      " 1   side        72043 non-null  object \n",
      " 2   date1       72043 non-null  object \n",
      " 3   date2       72043 non-null  object \n",
      " 4   category    72004 non-null  object \n",
      " 5   status      72043 non-null  object \n",
      " 6   verdict     6981 non-null   object \n",
      " 7   verdict_up  72043 non-null  object \n",
      " 8   reason      14463 non-null  object \n",
      " 9   text        72043 non-null  object \n",
      " 10  target      72043 non-null  float64\n",
      "dtypes: float64(1), object(10)\n",
      "memory usage: 6.6+ MB\n"
     ]
    }
   ],
   "source": [
    "data.info()"
   ]
  },
  {
   "cell_type": "code",
   "execution_count": 6,
   "metadata": {},
   "outputs": [],
   "source": [
    "def find_pdf(text):\n",
    "    if (text.find('%PDF') >= 0):\n",
    "        return 1\n",
    "    else:\n",
    "        return 0"
   ]
  },
  {
   "cell_type": "code",
   "execution_count": 7,
   "metadata": {},
   "outputs": [],
   "source": [
    "data['pdf'] = data['text'].apply(find_pdf)"
   ]
  },
  {
   "cell_type": "code",
   "execution_count": 8,
   "metadata": {},
   "outputs": [
    {
     "data": {
      "text/plain": [
       "53"
      ]
     },
     "execution_count": 8,
     "metadata": {},
     "output_type": "execute_result"
    }
   ],
   "source": [
    "data['pdf'].sum()"
   ]
  },
  {
   "cell_type": "code",
   "execution_count": 9,
   "metadata": {},
   "outputs": [],
   "source": [
    "data = data[data['pdf']==0]"
   ]
  },
  {
   "cell_type": "code",
   "execution_count": 11,
   "metadata": {},
   "outputs": [
    {
     "name": "stdout",
     "output_type": "stream",
     "text": [
      "<class 'pandas.core.frame.DataFrame'>\n",
      "Int64Index: 71990 entries, 0 to 21025\n",
      "Data columns (total 12 columns):\n",
      " #   Column      Non-Null Count  Dtype  \n",
      "---  ------      --------------  -----  \n",
      " 0   id          71900 non-null  object \n",
      " 1   side        71990 non-null  object \n",
      " 2   date1       71990 non-null  object \n",
      " 3   date2       71990 non-null  object \n",
      " 4   category    71951 non-null  object \n",
      " 5   status      71990 non-null  object \n",
      " 6   verdict     6962 non-null   object \n",
      " 7   verdict_up  71990 non-null  object \n",
      " 8   reason      14453 non-null  object \n",
      " 9   text        71990 non-null  object \n",
      " 10  target      71990 non-null  float64\n",
      " 11  pdf         71990 non-null  int64  \n",
      "dtypes: float64(1), int64(1), object(10)\n",
      "memory usage: 7.1+ MB\n"
     ]
    }
   ],
   "source": [
    "data.info()"
   ]
  },
  {
   "cell_type": "code",
   "execution_count": 12,
   "metadata": {},
   "outputs": [],
   "source": [
    "def clear_words(text):\n",
    "    \n",
    "    text1 = text.replace('российской федерации', '')\n",
    "    text2 = text1.replace('соответствии', '')\n",
    "    text3 = text2.replace(' ст ', '')\n",
    "    text4 = text3.replace(' гк ', '')\n",
    "    text5 = text4.replace(' рф ', '')\n",
    "    text6 = text5.replace(' в ', '')\n",
    "    text7 = text6.replace(' с ', '')\n",
    "    text8 = text7.replace('размере', '')\n",
    "    text9 = text8.replace('а также', '')\n",
    "    text10 = text9.replace('также', '')\n",
    "    text11 = text10.replace('решение', '')\n",
    "    text12 = text11.replace('р е ш е н и е', '')\n",
    "    text13 = text12.replace('уид', '')\n",
    "    text14 = text13.replace('именем', '')\n",
    "    text15 = text14.replace('№', ' ')\n",
    "    text16 = text15.replace('город', ' ')\n",
    "    text17 = text16.replace('города', ' ')\n",
    "    return text17"
   ]
  },
  {
   "cell_type": "raw",
   "metadata": {},
   "source": [
    "def clear_text(text):\n",
    "    return \" \".join(re.sub(r'[^u\"а-яА-Я\"]', ' ', text.lower()).split())"
   ]
  },
  {
   "cell_type": "code",
   "execution_count": 13,
   "metadata": {},
   "outputs": [],
   "source": [
    "def clear_num_delo(text):\n",
    "    return \" \".join(re.sub(r'\\d-\\d{1,4}\\/\\d{2,4}', ' ', text.lower()).split())"
   ]
  },
  {
   "cell_type": "code",
   "execution_count": 14,
   "metadata": {},
   "outputs": [],
   "source": [
    "def clear_num_uid(text):\n",
    "    return \" \".join(re.sub(r'\\S{8}-\\d{2}-\\d{4}-\\d{6}-\\d{2}', ' ', text.lower()).split())"
   ]
  },
  {
   "cell_type": "code",
   "execution_count": 15,
   "metadata": {},
   "outputs": [],
   "source": [
    "def clear_data(text):\n",
    "    return \" \".join(re.sub(r'\\d{1,2}\\.\\d{1,2}\\.\\d{2,4}', ' ', text.lower()).split())"
   ]
  },
  {
   "cell_type": "code",
   "execution_count": 16,
   "metadata": {},
   "outputs": [],
   "source": [
    "data['clear_text1'] = data['text'].apply(clear_num_delo)\n",
    "data['clear_text2'] = data['clear_text1'].apply(clear_num_uid)\n",
    "data['clear_text3'] = data['clear_text2'].apply(clear_data)\n",
    "data['clear_text'] = data['clear_text3'].apply(clear_words)"
   ]
  },
  {
   "cell_type": "code",
   "execution_count": 17,
   "metadata": {},
   "outputs": [
    {
     "data": {
      "text/html": [
       "<div>\n",
       "<style scoped>\n",
       "    .dataframe tbody tr th:only-of-type {\n",
       "        vertical-align: middle;\n",
       "    }\n",
       "\n",
       "    .dataframe tbody tr th {\n",
       "        vertical-align: top;\n",
       "    }\n",
       "\n",
       "    .dataframe thead th {\n",
       "        text-align: right;\n",
       "    }\n",
       "</style>\n",
       "<table border=\"1\" class=\"dataframe\">\n",
       "  <thead>\n",
       "    <tr style=\"text-align: right;\">\n",
       "      <th></th>\n",
       "      <th>clear_text</th>\n",
       "      <th>text</th>\n",
       "    </tr>\n",
       "  </thead>\n",
       "  <tbody>\n",
       "    <tr>\n",
       "      <th>0</th>\n",
       "      <td>12 октября 2021 года адрес лефортовский рай...</td>\n",
       "      <td>РЕШЕНИЕ именем Российской Федерации  12 октябр...</td>\n",
       "    </tr>\n",
       "    <tr>\n",
       "      <th>1</th>\n",
       "      <td>мотивированное  изготовлено    18 января 2022 ...</td>\n",
       "      <td>Мотивированное решение изготовлено 21.01.2022 ...</td>\n",
       "    </tr>\n",
       "    <tr>\n",
       "      <th>5</th>\n",
       "      <td>01 декабря 2021 года адрес люблинский район...</td>\n",
       "      <td>РЕШЕНИЕ именем Российской Федерации  01 декабр...</td>\n",
       "    </tr>\n",
       "    <tr>\n",
       "      <th>6</th>\n",
       "      <td>01 декабря 2021 года адрес люблинский район...</td>\n",
       "      <td>РЕШЕНИЕ именем Российской Федерации  01 декабр...</td>\n",
       "    </tr>\n",
       "    <tr>\n",
       "      <th>7</th>\n",
       "      <td>19 апреля 2022 года адрес измайловский рай...</td>\n",
       "      <td>УИД 77RS0010-02-2021-004495-97 РЕШЕНИЕ ИМЕНЕМ ...</td>\n",
       "    </tr>\n",
       "    <tr>\n",
       "      <th>...</th>\n",
       "      <td>...</td>\n",
       "      <td>...</td>\n",
       "    </tr>\n",
       "    <tr>\n",
       "      <th>21021</th>\n",
       "      <td>04 декабря 2018 года   москва басманный рай...</td>\n",
       "      <td>РЕШЕНИЕ Именем Российской Федерации   04 дека...</td>\n",
       "    </tr>\n",
       "    <tr>\n",
       "      <th>21022</th>\n",
       "      <td>15 января 2019 года   москва басманный райо...</td>\n",
       "      <td>РЕШЕНИЕ Именем Российской Федерации \\t \\t15 ян...</td>\n",
       "    </tr>\n",
       "    <tr>\n",
       "      <th>21023</th>\n",
       "      <td>москва 28 января 2019 года басманный райо...</td>\n",
       "      <td>РЕШЕНИЕ ИМЕНЕМ РОССИЙСКОЙ ФЕДЕРАЦИИ  город Мос...</td>\n",
       "    </tr>\n",
       "    <tr>\n",
       "      <th>21024</th>\n",
       "      <td>дело      адрес дата басманный районный суд ад...</td>\n",
       "      <td>Дело № 2-0134/2019  РЕШЕНИЕ ИМЕНЕМ  РОССИЙСКОЙ...</td>\n",
       "    </tr>\n",
       "    <tr>\n",
       "      <th>21025</th>\n",
       "      <td>21 июня 2018 года   москва кузьминский райо...</td>\n",
       "      <td>Р Е Ш Е Н И Е Именем  Российской  Федерации  2...</td>\n",
       "    </tr>\n",
       "  </tbody>\n",
       "</table>\n",
       "<p>71990 rows × 2 columns</p>\n",
       "</div>"
      ],
      "text/plain": [
       "                                              clear_text  \\\n",
       "0         12 октября 2021 года адрес лефортовский рай...   \n",
       "1      мотивированное  изготовлено    18 января 2022 ...   \n",
       "5         01 декабря 2021 года адрес люблинский район...   \n",
       "6         01 декабря 2021 года адрес люблинский район...   \n",
       "7          19 апреля 2022 года адрес измайловский рай...   \n",
       "...                                                  ...   \n",
       "21021     04 декабря 2018 года   москва басманный рай...   \n",
       "21022     15 января 2019 года   москва басманный райо...   \n",
       "21023       москва 28 января 2019 года басманный райо...   \n",
       "21024  дело      адрес дата басманный районный суд ад...   \n",
       "21025     21 июня 2018 года   москва кузьминский райо...   \n",
       "\n",
       "                                                    text  \n",
       "0      РЕШЕНИЕ именем Российской Федерации  12 октябр...  \n",
       "1      Мотивированное решение изготовлено 21.01.2022 ...  \n",
       "5      РЕШЕНИЕ именем Российской Федерации  01 декабр...  \n",
       "6      РЕШЕНИЕ именем Российской Федерации  01 декабр...  \n",
       "7      УИД 77RS0010-02-2021-004495-97 РЕШЕНИЕ ИМЕНЕМ ...  \n",
       "...                                                  ...  \n",
       "21021   РЕШЕНИЕ Именем Российской Федерации   04 дека...  \n",
       "21022  РЕШЕНИЕ Именем Российской Федерации \\t \\t15 ян...  \n",
       "21023  РЕШЕНИЕ ИМЕНЕМ РОССИЙСКОЙ ФЕДЕРАЦИИ  город Мос...  \n",
       "21024  Дело № 2-0134/2019  РЕШЕНИЕ ИМЕНЕМ  РОССИЙСКОЙ...  \n",
       "21025  Р Е Ш Е Н И Е Именем  Российской  Федерации  2...  \n",
       "\n",
       "[71990 rows x 2 columns]"
      ]
     },
     "execution_count": 17,
     "metadata": {},
     "output_type": "execute_result"
    }
   ],
   "source": [
    "data[['clear_text', 'text']]"
   ]
  },
  {
   "cell_type": "code",
   "execution_count": 18,
   "metadata": {},
   "outputs": [
    {
     "name": "stdout",
     "output_type": "stream",
     "text": [
      "<class 'pandas.core.frame.DataFrame'>\n",
      "Int64Index: 71990 entries, 0 to 21025\n",
      "Data columns (total 16 columns):\n",
      " #   Column       Non-Null Count  Dtype  \n",
      "---  ------       --------------  -----  \n",
      " 0   id           71900 non-null  object \n",
      " 1   side         71990 non-null  object \n",
      " 2   date1        71990 non-null  object \n",
      " 3   date2        71990 non-null  object \n",
      " 4   category     71951 non-null  object \n",
      " 5   status       71990 non-null  object \n",
      " 6   verdict      6962 non-null   object \n",
      " 7   verdict_up   71990 non-null  object \n",
      " 8   reason       14453 non-null  object \n",
      " 9   text         71990 non-null  object \n",
      " 10  target       71990 non-null  float64\n",
      " 11  pdf          71990 non-null  int64  \n",
      " 12  clear_text1  71990 non-null  object \n",
      " 13  clear_text2  71990 non-null  object \n",
      " 14  clear_text3  71990 non-null  object \n",
      " 15  clear_text   71990 non-null  object \n",
      "dtypes: float64(1), int64(1), object(14)\n",
      "memory usage: 9.3+ MB\n"
     ]
    }
   ],
   "source": [
    "data.info()"
   ]
  },
  {
   "cell_type": "code",
   "execution_count": 19,
   "metadata": {},
   "outputs": [],
   "source": [
    "data.reset_index(drop=True, inplace=True)\n",
    "data['len_txt'] = data['clear_text'].apply(len_txt)"
   ]
  },
  {
   "cell_type": "code",
   "execution_count": 20,
   "metadata": {},
   "outputs": [
    {
     "data": {
      "text/plain": [
       "<AxesSubplot:>"
      ]
     },
     "execution_count": 20,
     "metadata": {},
     "output_type": "execute_result"
    },
    {
     "data": {
      "image/png": "[encoded data removed]",
      "text/plain": [
       "<Figure size 432x288 with 1 Axes>"
      ]
     },
     "metadata": {
      "needs_background": "light"
     },
     "output_type": "display_data"
    }
   ],
   "source": [
    "data['len_txt'].hist()"
   ]
  },
  {
   "cell_type": "code",
   "execution_count": 21,
   "metadata": {},
   "outputs": [],
   "source": [
    "g = data[data['len_txt'] < 6000]"
   ]
  },
  {
   "cell_type": "code",
   "execution_count": 22,
   "metadata": {},
   "outputs": [
    {
     "data": {
      "text/plain": [
       "<AxesSubplot:>"
      ]
     },
     "execution_count": 22,
     "metadata": {},
     "output_type": "execute_result"
    },
    {
     "data": {
      "image/png": "[encoded data removed]",
      "text/plain": [
       "<Figure size 432x288 with 1 Axes>"
      ]
     },
     "metadata": {
      "needs_background": "light"
     },
     "output_type": "display_data"
    }
   ],
   "source": [
    "g['len_txt'].hist(bins=200)"
   ]
  },
  {
   "cell_type": "code",
   "execution_count": 25,
   "metadata": {},
   "outputs": [],
   "source": [
    "data = data.query('len_txt < 6000')"
   ]
  },
  {
   "cell_type": "code",
   "execution_count": 26,
   "metadata": {},
   "outputs": [
    {
     "name": "stdout",
     "output_type": "stream",
     "text": [
      "<class 'pandas.core.frame.DataFrame'>\n",
      "Int64Index: 71691 entries, 0 to 71989\n",
      "Data columns (total 17 columns):\n",
      " #   Column       Non-Null Count  Dtype  \n",
      "---  ------       --------------  -----  \n",
      " 0   id           71601 non-null  object \n",
      " 1   side         71691 non-null  object \n",
      " 2   date1        71691 non-null  object \n",
      " 3   date2        71691 non-null  object \n",
      " 4   category     71652 non-null  object \n",
      " 5   status       71691 non-null  object \n",
      " 6   verdict      6910 non-null   object \n",
      " 7   verdict_up   71691 non-null  object \n",
      " 8   reason       14379 non-null  object \n",
      " 9   text         71691 non-null  object \n",
      " 10  target       71691 non-null  float64\n",
      " 11  pdf          71691 non-null  int64  \n",
      " 12  clear_text1  71691 non-null  object \n",
      " 13  clear_text2  71691 non-null  object \n",
      " 14  clear_text3  71691 non-null  object \n",
      " 15  clear_text   71691 non-null  object \n",
      " 16  len_txt      71691 non-null  int64  \n",
      "dtypes: float64(1), int64(2), object(14)\n",
      "memory usage: 9.8+ MB\n"
     ]
    }
   ],
   "source": [
    "data.info()"
   ]
  },
  {
   "cell_type": "code",
   "execution_count": 27,
   "metadata": {},
   "outputs": [],
   "source": [
    "data_save = data[['clear_text','target']]"
   ]
  },
  {
   "cell_type": "code",
   "execution_count": 28,
   "metadata": {},
   "outputs": [],
   "source": [
    "data_save.reset_index(drop=True, inplace=True)\n",
    "data_save.to_csv('data_clean.csv', index=False)"
   ]
  }
 ],
 "metadata": {
  "kernelspec": {
   "display_name": "Python 3 (ipykernel)",
   "language": "python",
   "name": "python3"
  },
  "language_info": {
   "codemirror_mode": {
    "name": "ipython",
    "version": 3
   },
   "file_extension": ".py",
   "mimetype": "text/x-python",
   "name": "python",
   "nbconvert_exporter": "python",
   "pygments_lexer": "ipython3",
   "version": "3.9.10"
  }
 },
 "nbformat": 4,
 "nbformat_minor": 1
}
