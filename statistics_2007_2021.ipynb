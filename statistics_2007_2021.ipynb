{
 "cells": [
  {
   "cell_type": "code",
   "execution_count": 1,
   "id": "9a1e8a73",
   "metadata": {},
   "outputs": [],
   "source": [
    "import pandas as pd\n",
    "import matplotlib.pyplot as plt"
   ]
  },
  {
   "cell_type": "code",
   "execution_count": 2,
   "id": "df9a8e93",
   "metadata": {},
   "outputs": [],
   "source": [
    "stat = pd.read_csv('stat.csv')"
   ]
  },
  {
   "cell_type": "code",
   "execution_count": 3,
   "id": "70f8c6d7",
   "metadata": {},
   "outputs": [
    {
     "data": {
      "text/html": [
       "<div>\n",
       "<style scoped>\n",
       "    .dataframe tbody tr th:only-of-type {\n",
       "        vertical-align: middle;\n",
       "    }\n",
       "\n",
       "    .dataframe tbody tr th {\n",
       "        vertical-align: top;\n",
       "    }\n",
       "\n",
       "    .dataframe thead th {\n",
       "        text-align: right;\n",
       "    }\n",
       "</style>\n",
       "<table border=\"1\" class=\"dataframe\">\n",
       "  <thead>\n",
       "    <tr style=\"text-align: right;\">\n",
       "      <th></th>\n",
       "      <th>год</th>\n",
       "      <th>рассм_1_инст</th>\n",
       "      <th>рассм_2_инст</th>\n",
       "      <th>без_удовлетв</th>\n",
       "      <th>процент_обжалования</th>\n",
       "      <th>отмена</th>\n",
       "      <th>процент_отмены</th>\n",
       "    </tr>\n",
       "  </thead>\n",
       "  <tbody>\n",
       "    <tr>\n",
       "      <th>0</th>\n",
       "      <td>2007</td>\n",
       "      <td>9010161</td>\n",
       "      <td>121490</td>\n",
       "      <td>73316</td>\n",
       "      <td>0.013484</td>\n",
       "      <td>48174</td>\n",
       "      <td>0.396526</td>\n",
       "    </tr>\n",
       "    <tr>\n",
       "      <th>1</th>\n",
       "      <td>2008</td>\n",
       "      <td>10152065</td>\n",
       "      <td>136038</td>\n",
       "      <td>81737</td>\n",
       "      <td>0.013400</td>\n",
       "      <td>54301</td>\n",
       "      <td>0.399161</td>\n",
       "    </tr>\n",
       "    <tr>\n",
       "      <th>2</th>\n",
       "      <td>2009</td>\n",
       "      <td>12690340</td>\n",
       "      <td>133199</td>\n",
       "      <td>81110</td>\n",
       "      <td>0.010496</td>\n",
       "      <td>52089</td>\n",
       "      <td>0.391061</td>\n",
       "    </tr>\n",
       "    <tr>\n",
       "      <th>3</th>\n",
       "      <td>2010</td>\n",
       "      <td>13430651</td>\n",
       "      <td>129995</td>\n",
       "      <td>83566</td>\n",
       "      <td>0.009679</td>\n",
       "      <td>46429</td>\n",
       "      <td>0.357160</td>\n",
       "    </tr>\n",
       "    <tr>\n",
       "      <th>4</th>\n",
       "      <td>2011</td>\n",
       "      <td>11995795</td>\n",
       "      <td>151194</td>\n",
       "      <td>104421</td>\n",
       "      <td>0.012604</td>\n",
       "      <td>46773</td>\n",
       "      <td>0.309358</td>\n",
       "    </tr>\n",
       "    <tr>\n",
       "      <th>5</th>\n",
       "      <td>2012</td>\n",
       "      <td>9603542</td>\n",
       "      <td>647347</td>\n",
       "      <td>428671</td>\n",
       "      <td>0.067407</td>\n",
       "      <td>218676</td>\n",
       "      <td>0.337803</td>\n",
       "    </tr>\n",
       "    <tr>\n",
       "      <th>6</th>\n",
       "      <td>2013</td>\n",
       "      <td>12186127</td>\n",
       "      <td>563178</td>\n",
       "      <td>364199</td>\n",
       "      <td>0.046215</td>\n",
       "      <td>198979</td>\n",
       "      <td>0.353315</td>\n",
       "    </tr>\n",
       "    <tr>\n",
       "      <th>7</th>\n",
       "      <td>2014</td>\n",
       "      <td>13256068</td>\n",
       "      <td>697811</td>\n",
       "      <td>509113</td>\n",
       "      <td>0.052641</td>\n",
       "      <td>188698</td>\n",
       "      <td>0.270414</td>\n",
       "    </tr>\n",
       "    <tr>\n",
       "      <th>8</th>\n",
       "      <td>2015</td>\n",
       "      <td>15168500</td>\n",
       "      <td>774133</td>\n",
       "      <td>567281</td>\n",
       "      <td>0.051036</td>\n",
       "      <td>206852</td>\n",
       "      <td>0.267205</td>\n",
       "    </tr>\n",
       "    <tr>\n",
       "      <th>9</th>\n",
       "      <td>2016</td>\n",
       "      <td>12885619</td>\n",
       "      <td>786599</td>\n",
       "      <td>565610</td>\n",
       "      <td>0.061045</td>\n",
       "      <td>220989</td>\n",
       "      <td>0.280942</td>\n",
       "    </tr>\n",
       "    <tr>\n",
       "      <th>10</th>\n",
       "      <td>2017</td>\n",
       "      <td>14200664</td>\n",
       "      <td>766473</td>\n",
       "      <td>554751</td>\n",
       "      <td>0.053974</td>\n",
       "      <td>211722</td>\n",
       "      <td>0.276229</td>\n",
       "    </tr>\n",
       "    <tr>\n",
       "      <th>11</th>\n",
       "      <td>2018</td>\n",
       "      <td>16971171</td>\n",
       "      <td>761317</td>\n",
       "      <td>556844</td>\n",
       "      <td>0.044859</td>\n",
       "      <td>204473</td>\n",
       "      <td>0.268578</td>\n",
       "    </tr>\n",
       "    <tr>\n",
       "      <th>12</th>\n",
       "      <td>2019</td>\n",
       "      <td>19352334</td>\n",
       "      <td>782600</td>\n",
       "      <td>575502</td>\n",
       "      <td>0.040440</td>\n",
       "      <td>207098</td>\n",
       "      <td>0.264628</td>\n",
       "    </tr>\n",
       "    <tr>\n",
       "      <th>13</th>\n",
       "      <td>2020</td>\n",
       "      <td>21237308</td>\n",
       "      <td>616369</td>\n",
       "      <td>427110</td>\n",
       "      <td>0.029023</td>\n",
       "      <td>189259</td>\n",
       "      <td>0.307055</td>\n",
       "    </tr>\n",
       "    <tr>\n",
       "      <th>14</th>\n",
       "      <td>2021</td>\n",
       "      <td>23189461</td>\n",
       "      <td>666343</td>\n",
       "      <td>449702</td>\n",
       "      <td>0.028735</td>\n",
       "      <td>216641</td>\n",
       "      <td>0.325119</td>\n",
       "    </tr>\n",
       "  </tbody>\n",
       "</table>\n",
       "</div>"
      ],
      "text/plain": [
       "     год  рассм_1_инст  рассм_2_инст  без_удовлетв  процент_обжалования  \\\n",
       "0   2007       9010161        121490         73316             0.013484   \n",
       "1   2008      10152065        136038         81737             0.013400   \n",
       "2   2009      12690340        133199         81110             0.010496   \n",
       "3   2010      13430651        129995         83566             0.009679   \n",
       "4   2011      11995795        151194        104421             0.012604   \n",
       "5   2012       9603542        647347        428671             0.067407   \n",
       "6   2013      12186127        563178        364199             0.046215   \n",
       "7   2014      13256068        697811        509113             0.052641   \n",
       "8   2015      15168500        774133        567281             0.051036   \n",
       "9   2016      12885619        786599        565610             0.061045   \n",
       "10  2017      14200664        766473        554751             0.053974   \n",
       "11  2018      16971171        761317        556844             0.044859   \n",
       "12  2019      19352334        782600        575502             0.040440   \n",
       "13  2020      21237308        616369        427110             0.029023   \n",
       "14  2021      23189461        666343        449702             0.028735   \n",
       "\n",
       "    отмена  процент_отмены  \n",
       "0    48174        0.396526  \n",
       "1    54301        0.399161  \n",
       "2    52089        0.391061  \n",
       "3    46429        0.357160  \n",
       "4    46773        0.309358  \n",
       "5   218676        0.337803  \n",
       "6   198979        0.353315  \n",
       "7   188698        0.270414  \n",
       "8   206852        0.267205  \n",
       "9   220989        0.280942  \n",
       "10  211722        0.276229  \n",
       "11  204473        0.268578  \n",
       "12  207098        0.264628  \n",
       "13  189259        0.307055  \n",
       "14  216641        0.325119  "
      ]
     },
     "execution_count": 3,
     "metadata": {},
     "output_type": "execute_result"
    }
   ],
   "source": [
    "stat"
   ]
  },
  {
   "cell_type": "code",
   "execution_count": 4,
   "id": "c63a5268",
   "metadata": {},
   "outputs": [
    {
     "data": {
      "image/png": "[encoded data removed]",
      "text/plain": [
       "<Figure size 720x720 with 1 Axes>"
      ]
     },
     "metadata": {
      "needs_background": "light"
     },
     "output_type": "display_data"
    }
   ],
   "source": [
    "plt.figure(figsize=(10, 10))\n",
    "plt.bar(x=stat['год'], height=stat['рассм_1_инст'])\n",
    "plt.bar(x=stat['год'], height=stat['рассм_2_инст'])\n",
    "plt.legend(['рассм_1_инст', 'рассм_2_инст'])\n",
    "plt.show()"
   ]
  },
  {
   "cell_type": "code",
   "execution_count": 5,
   "id": "2769a0f4",
   "metadata": {},
   "outputs": [
    {
     "data": {
      "image/png": "[encoded data removed]",
      "text/plain": [
       "<Figure size 720x720 with 1 Axes>"
      ]
     },
     "metadata": {
      "needs_background": "light"
     },
     "output_type": "display_data"
    }
   ],
   "source": [
    "plt.figure(figsize=(10, 10))\n",
    "plt.bar(x=stat['год'], height=stat['рассм_2_инст'])\n",
    "plt.bar(x=stat['год'], height=stat['отмена'])\n",
    "plt.legend(['рассм_2_инст', 'отмена'])\n",
    "plt.show()"
   ]
  },
  {
   "cell_type": "code",
   "execution_count": 6,
   "id": "126ca200",
   "metadata": {},
   "outputs": [
    {
     "data": {
      "image/png": "[encoded data removed]",
      "text/plain": [
       "<Figure size 720x720 with 1 Axes>"
      ]
     },
     "metadata": {
      "needs_background": "light"
     },
     "output_type": "display_data"
    }
   ],
   "source": [
    "plt.figure(figsize=(10, 10))\n",
    "plt.bar(x=stat['год'], height=stat['процент_обжалования'])\n",
    "plt.legend(['процент_обжалования'])\n",
    "plt.show()"
   ]
  },
  {
   "cell_type": "code",
   "execution_count": 7,
   "id": "09f08ef7",
   "metadata": {},
   "outputs": [
    {
     "data": {
      "image/png": "[encoded data removed]",
      "text/plain": [
       "<Figure size 720x720 with 1 Axes>"
      ]
     },
     "metadata": {
      "needs_background": "light"
     },
     "output_type": "display_data"
    }
   ],
   "source": [
    "plt.figure(figsize=(10, 10))\n",
    "plt.bar(x=stat['год'], height=stat['процент_отмены'])\n",
    "plt.legend(['процент_отмены'])\n",
    "plt.show()"
   ]
  },
  {
   "cell_type": "code",
   "execution_count": null,
   "id": "005d67d4",
   "metadata": {},
   "outputs": [],
   "source": []
  }
 ],
 "metadata": {
  "kernelspec": {
   "display_name": "Python 3 (ipykernel)",
   "language": "python",
   "name": "python3"
  },
  "language_info": {
   "codemirror_mode": {
    "name": "ipython",
    "version": 3
   },
   "file_extension": ".py",
   "mimetype": "text/x-python",
   "name": "python",
   "nbconvert_exporter": "python",
   "pygments_lexer": "ipython3",
   "version": "3.9.10"
  }
 },
 "nbformat": 4,
 "nbformat_minor": 5
}
