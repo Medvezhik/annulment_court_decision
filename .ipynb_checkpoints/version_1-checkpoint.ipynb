{
 "cells": [
  {
   "cell_type": "code",
   "execution_count": null,
   "id": "61c42e75",
   "metadata": {},
   "outputs": [],
   "source": [
    "import re\n",
    "import numpy as np\n",
    "import pandas as pd\n",
    "from tqdm import tqdm\n",
    "from sklearn.model_selection import train_test_split\n",
    "from sklearn.metrics import classification_report, f1_score\n",
    "\n",
    "import torch\n",
    "import transformers\n",
    "import torch.nn as nn\n",
    "from transformers import AutoModel, BertTokenizer, BertForSequenceClassification, AutoConfig\n",
    "from torch.utils.data import TensorDataset, DataLoader, RandomSampler, SequentialSampler\n",
    "\n",
    "import matplotlib.pyplot as plt\n",
    "from wordcloud import WordCloud\n",
    "from nltk.corpus import stopwords\n",
    "\n",
    "tqdm.pandas()\n",
    "\n",
    "device = torch.device('cuda')"
   ]
  },
  {
   "cell_type": "code",
   "execution_count": null,
   "id": "196ff8e9",
   "metadata": {},
   "outputs": [],
   "source": [
    "stop_words = stopwords.words('russian')"
   ]
  },
  {
   "cell_type": "code",
   "execution_count": null,
   "id": "d9876e23",
   "metadata": {
    "scrolled": true
   },
   "outputs": [],
   "source": [
    "bert_config = AutoConfig.from_pretrained('rubert_cased_L-12_H-768_A-12_v2/bert_config.json')"
   ]
  },
  {
   "cell_type": "code",
   "execution_count": null,
   "id": "6ad78289",
   "metadata": {
    "scrolled": true
   },
   "outputs": [],
   "source": [
    "tokenizer = BertTokenizer.from_pretrained('rubert_cased_L-12_H-768_A-12_v2/vocab.txt')#, stopwords=stop_words)"
   ]
  },
  {
   "cell_type": "code",
   "execution_count": null,
   "id": "8aebe2dd",
   "metadata": {},
   "outputs": [],
   "source": [
    "tokenizer"
   ]
  },
  {
   "cell_type": "code",
   "execution_count": null,
   "id": "2f1c34f5",
   "metadata": {},
   "outputs": [],
   "source": [
    "bert_config"
   ]
  },
  {
   "cell_type": "code",
   "execution_count": null,
   "id": "d4b636e9",
   "metadata": {},
   "outputs": [],
   "source": [
    "bert = AutoModel.from_config(bert_config)"
   ]
  },
  {
   "cell_type": "code",
   "execution_count": null,
   "id": "2f2cc225",
   "metadata": {},
   "outputs": [],
   "source": [
    "for param in bert.parameters():\n",
    "    param.requires_grad = False\n",
    "\n",
    "class BERT_Arch(nn.Module):\n",
    "    \n",
    "    def __init__(self, bert):\n",
    "        super(BERT_Arch, self).__init__()\n",
    "        self.bert = bert\n",
    "        self.dropout = nn.Dropout(0.1)\n",
    "        self.relu = nn.ReLU()\n",
    "        self.fc1 = nn.Linear(768,512)\n",
    "        self.fc2 = nn.Linear(512,2)\n",
    "        self.softmax = nn.LogSoftmax(dim = 1)\n",
    "    \n",
    "    def forward(self, sent_id, mask):\n",
    "        _, cls_hs = self.bert(sent_id, attention_mask = mask, return_dict = False)\n",
    "        x = self.fc1(cls_hs)\n",
    "        x = self.relu(x)\n",
    "        x = self.dropout(x)\n",
    "        x = self.fc2(x)\n",
    "        x = self.softmax(x)\n",
    "        return x"
   ]
  },
  {
   "cell_type": "code",
   "execution_count": null,
   "id": "08c943a5",
   "metadata": {},
   "outputs": [],
   "source": [
    "df = pd.read_csv('mosgorsud.csv')"
   ]
  },
  {
   "cell_type": "code",
   "execution_count": null,
   "id": "2c24fa86",
   "metadata": {},
   "outputs": [],
   "source": [
    "df.info()"
   ]
  },
  {
   "cell_type": "code",
   "execution_count": null,
   "id": "ad64f1d4",
   "metadata": {},
   "outputs": [],
   "source": [
    "df.drop_duplicates(inplace=True)"
   ]
  },
  {
   "cell_type": "code",
   "execution_count": null,
   "id": "b481126d",
   "metadata": {},
   "outputs": [],
   "source": [
    "df.info()"
   ]
  },
  {
   "cell_type": "code",
   "execution_count": null,
   "id": "a2447456",
   "metadata": {},
   "outputs": [],
   "source": [
    "def verdict_to_int(verdict_str):\n",
    "    if 'Оставить' in verdict_str.split():\n",
    "        return 0\n",
    "    if (('Отменить' in verdict_str.split()) \n",
    "          or ('Изменить' in verdict_str.split())):\n",
    "        return 1"
   ]
  },
  {
   "cell_type": "code",
   "execution_count": null,
   "id": "4f703277",
   "metadata": {},
   "outputs": [],
   "source": [
    "df['target'] = df['verdict_up'].apply(verdict_to_int)"
   ]
  },
  {
   "cell_type": "code",
   "execution_count": null,
   "id": "e99e6f2f",
   "metadata": {},
   "outputs": [],
   "source": [
    "df.sample(5)"
   ]
  },
  {
   "cell_type": "code",
   "execution_count": null,
   "id": "19c718e0",
   "metadata": {},
   "outputs": [],
   "source": [
    "for_cloud = ' '.join(df['text'])"
   ]
  },
  {
   "cell_type": "code",
   "execution_count": null,
   "id": "c8129fcd",
   "metadata": {},
   "outputs": [],
   "source": [
    "len(for_cloud)"
   ]
  },
  {
   "cell_type": "code",
   "execution_count": null,
   "id": "7a83494a",
   "metadata": {},
   "outputs": [],
   "source": [
    "for_cloud = for_cloud.lower()"
   ]
  },
  {
   "cell_type": "code",
   "execution_count": null,
   "id": "85126c82",
   "metadata": {},
   "outputs": [],
   "source": [
    "for_cloud = for_cloud.replace('соответствии', '').replace('российской федерации', '').replace('размере', '').replace('.', '')"
   ]
  },
  {
   "cell_type": "code",
   "execution_count": null,
   "id": "73245f04",
   "metadata": {},
   "outputs": [],
   "source": [
    "for_cloud = for_cloud.replace(' в ', '').replace(' с ', '').replace(' ст ', '').replace(' гк ', '').replace(' рф ', '')"
   ]
  },
  {
   "cell_type": "code",
   "execution_count": null,
   "id": "b7675872",
   "metadata": {},
   "outputs": [],
   "source": [
    "len(for_cloud)"
   ]
  },
  {
   "cell_type": "code",
   "execution_count": null,
   "id": "68dcbaec",
   "metadata": {},
   "outputs": [],
   "source": [
    "cloud = WordCloud().generate(for_cloud)"
   ]
  },
  {
   "cell_type": "code",
   "execution_count": null,
   "id": "76866fcc",
   "metadata": {},
   "outputs": [],
   "source": [
    "cloud_stop = WordCloud(stopwords=stop_words).generate(for_cloud)"
   ]
  },
  {
   "cell_type": "code",
   "execution_count": null,
   "id": "65368337",
   "metadata": {},
   "outputs": [],
   "source": [
    "plt.figure(figsize=(12, 8))\n",
    "plt.imshow(cloud)\n",
    "plt.axis('off')\n",
    "plt.figure(figsize=(12, 8))\n",
    "plt.imshow(cloud_stop)\n",
    "plt.axis('off')"
   ]
  },
  {
   "cell_type": "code",
   "execution_count": null,
   "id": "3554d10b",
   "metadata": {},
   "outputs": [],
   "source": [
    "def clear_text(text):\n",
    "    return \" \".join(re.sub(r'[^u\"а-яА-Я\"0-9]', ' ', text.lower()).split())\n"
   ]
  },
  {
   "cell_type": "code",
   "execution_count": null,
   "id": "3cbc97b4",
   "metadata": {},
   "outputs": [],
   "source": [
    "df['clear_text'] = df['text'].apply(clear_text)"
   ]
  },
  {
   "cell_type": "code",
   "execution_count": null,
   "id": "6d21b516",
   "metadata": {},
   "outputs": [],
   "source": [
    "def clear_words(text):\n",
    "    \n",
    "    text1 = text.replace('российской федерации', '')\n",
    "    text2 = text1.replace('соответствии', '')\n",
    "    text3 = text2.replace(' ст ', '')\n",
    "    text4 = text3.replace(' гк ', '')\n",
    "    text5 = text4.replace(' рф ', '')\n",
    "    text6 = text5.replace(' в ', '')\n",
    "    text7 = text6.replace(' с ', '')\n",
    "    text8 = text7.replace('размере', '')\n",
    "    text9 = text8.replace('а также', '')\n",
    "    text10 = text9.replace('также', '')\n",
    "    text11 = text10.replace('решение', '')\n",
    "    text12 = text11.replace('р е ш е н и е', '')\n",
    "    text13 = text12.replace('уид', '')\n",
    "    text14 = text13.replace('именем', '')\n",
    "    return text14"
   ]
  },
  {
   "cell_type": "code",
   "execution_count": null,
   "id": "04c04691",
   "metadata": {},
   "outputs": [],
   "source": [
    "df['clear_word'] = df['clear_text'].apply(clear_words)"
   ]
  },
  {
   "cell_type": "code",
   "execution_count": null,
   "id": "215d96b5",
   "metadata": {},
   "outputs": [],
   "source": [
    "df['clear_word']"
   ]
  },
  {
   "cell_type": "code",
   "execution_count": null,
   "id": "105e83bc",
   "metadata": {},
   "outputs": [],
   "source": [
    "df['target'].isna().sum()"
   ]
  },
  {
   "cell_type": "code",
   "execution_count": null,
   "id": "d107a278",
   "metadata": {},
   "outputs": [],
   "source": [
    "df = df[df['target'].notna()]"
   ]
  },
  {
   "cell_type": "code",
   "execution_count": null,
   "id": "97408c3f",
   "metadata": {},
   "outputs": [],
   "source": [
    "df.info()"
   ]
  },
  {
   "cell_type": "code",
   "execution_count": null,
   "id": "b12d4115",
   "metadata": {},
   "outputs": [],
   "source": [
    "#df['target'] = df['target'].astype('int')"
   ]
  },
  {
   "cell_type": "code",
   "execution_count": null,
   "id": "f6fbcfc0",
   "metadata": {},
   "outputs": [],
   "source": [
    "df_prep = pd.DataFrame()"
   ]
  },
  {
   "cell_type": "code",
   "execution_count": null,
   "id": "eaf7982d",
   "metadata": {},
   "outputs": [],
   "source": [
    "df_prep['text'] = df['clear_word']\n",
    "df_prep['target'] = df['target']"
   ]
  },
  {
   "cell_type": "code",
   "execution_count": null,
   "id": "94081ea2",
   "metadata": {},
   "outputs": [],
   "source": [
    "train_df, temp_df = train_test_split(df_prep, test_size=0.3, random_state=17)"
   ]
  },
  {
   "cell_type": "code",
   "execution_count": null,
   "id": "a4860734",
   "metadata": {},
   "outputs": [],
   "source": [
    "val_df, test_df = train_test_split(temp_df, test_size=0.5, random_state=17)"
   ]
  },
  {
   "cell_type": "code",
   "execution_count": null,
   "id": "f554c433",
   "metadata": {},
   "outputs": [],
   "source": [
    "train_text = train_df['text'].astype('str')\n",
    "train_labels = train_df['target']\n",
    "val_text = val_df['text'].astype('str')\n",
    "val_labels = val_df['target']\n",
    "test_text = test_df['text'].astype('str')\n",
    "test_labels = test_df['target']"
   ]
  },
  {
   "cell_type": "code",
   "execution_count": null,
   "id": "bd7bdc12",
   "metadata": {},
   "outputs": [],
   "source": [
    "test_labels"
   ]
  },
  {
   "cell_type": "code",
   "execution_count": null,
   "id": "4a389554",
   "metadata": {},
   "outputs": [],
   "source": [
    "list_train = list(train_labels.value_counts()/train_labels.shape[0])\n",
    "list_val = list(val_labels.value_counts()/val_labels.shape[0])\n",
    "list_test = list(test_labels.value_counts()/test_labels.shape[0])"
   ]
  },
  {
   "cell_type": "code",
   "execution_count": null,
   "id": "0b01ba73",
   "metadata": {},
   "outputs": [],
   "source": [
    "x_title = list(train_labels.value_counts().index)\n",
    "x_title"
   ]
  },
  {
   "cell_type": "code",
   "execution_count": null,
   "id": "1c8bc8dc",
   "metadata": {},
   "outputs": [],
   "source": [
    "fig, axes = plt.subplots(nrows=1, ncols=3, figsize=(8, 3))\n",
    "axes[0].bar(x_title, list_train, width=0.6)\n",
    "axes[0].set_title('train_target')\n",
    "axes[1].bar(x_title, list_val, width=0.6)\n",
    "axes[1].set_title('val_target')\n",
    "axes[2].bar(x_title, list_test, width=0.6)\n",
    "axes[2].set_title('test_target')\n",
    "\n",
    "plt.show()"
   ]
  },
  {
   "cell_type": "code",
   "execution_count": null,
   "id": "01943b67",
   "metadata": {},
   "outputs": [],
   "source": [
    "test_labels.value_counts()"
   ]
  },
  {
   "cell_type": "code",
   "execution_count": null,
   "id": "1fac1535",
   "metadata": {},
   "outputs": [],
   "source": [
    "train_text[6442]"
   ]
  },
  {
   "cell_type": "code",
   "execution_count": null,
   "id": "dec87dd4",
   "metadata": {},
   "outputs": [],
   "source": [
    "seq_len = [len(str(i).split()) for i in train_text]\n",
    "pd.Series(seq_len).hist(bins = 60)"
   ]
  },
  {
   "cell_type": "code",
   "execution_count": null,
   "id": "7ab2b706",
   "metadata": {},
   "outputs": [],
   "source": [
    "train_text.values"
   ]
  },
  {
   "cell_type": "code",
   "execution_count": null,
   "id": "300f8e1e",
   "metadata": {},
   "outputs": [],
   "source": [
    "tokens_train = tokenizer.batch_encode_plus(\n",
    "    train_text.values,\n",
    "    max_length = 500,\n",
    "    padding = 'max_length',\n",
    "    truncation = True\n",
    ")\n",
    "tokens_val = tokenizer.batch_encode_plus(\n",
    "    val_text.values,\n",
    "    max_length = 500,\n",
    "    padding = 'max_length',\n",
    "    truncation = True\n",
    ")\n",
    "tokens_test = tokenizer.batch_encode_plus(\n",
    "    test_text.values,\n",
    "    max_length = 500,\n",
    "    padding = 'max_length',\n",
    "    truncation = True\n",
    ")\n"
   ]
  },
  {
   "cell_type": "code",
   "execution_count": null,
   "id": "271f938c",
   "metadata": {},
   "outputs": [],
   "source": [
    "\n",
    "train_seq = torch.tensor(tokens_train['input_ids'])\n",
    "train_mask = torch.tensor(tokens_train['attention_mask'])\n",
    "train_y = torch.tensor(train_labels.values)\n",
    "\n",
    "val_seq = torch.tensor(tokens_val['input_ids'])\n",
    "val_mask = torch.tensor(tokens_val['attention_mask'])\n",
    "val_y = torch.tensor(val_labels.values)\n",
    "\n",
    "test_seq = torch.tensor(tokens_test['input_ids'])\n",
    "test_mask = torch.tensor(tokens_test['attention_mask'])\n",
    "test_y = torch.tensor(test_labels.values)\n",
    "batch_size = 8\n",
    "\n",
    "\n",
    "train_data = TensorDataset(train_seq, train_mask, train_y)\n",
    "train_sampler = RandomSampler(train_data)\n",
    "train_dataloader = DataLoader(train_data, sampler = train_sampler, batch_size = batch_size)\n",
    "\n",
    "val_data =  TensorDataset(val_seq, val_mask, val_y)\n",
    "val_sampler = SequentialSampler(val_data)\n",
    "val_dataloader = DataLoader(val_data, sampler = val_sampler, batch_size = batch_size)"
   ]
  },
  {
   "cell_type": "code",
   "execution_count": null,
   "id": "4a399ae0",
   "metadata": {},
   "outputs": [],
   "source": [
    "for param in bert.parameters():\n",
    "    param.requires_grad = False\n",
    "\n",
    "class BERT_Arch(nn.Module):\n",
    "    \n",
    "    def __init__(self, bert):\n",
    "        super(BERT_Arch, self).__init__()\n",
    "        self.bert = bert\n",
    "        self.dropout = nn.Dropout(0.1)\n",
    "        self.relu = nn.ReLU()\n",
    "        self.fc1 = nn.Linear(768,512)\n",
    "        self.fc2 = nn.Linear(512,2)\n",
    "        self.softmax = nn.LogSoftmax(dim = 1)\n",
    "    \n",
    "    def forward(self, sent_id, mask):\n",
    "        _, cls_hs = self.bert(sent_id, attention_mask = mask, return_dict = False)\n",
    "        x = self.fc1(cls_hs)\n",
    "        x = self.relu(x)\n",
    "        x = self.dropout(x)\n",
    "        x = self.fc2(x)\n",
    "        x = self.softmax(x)\n",
    "        return x"
   ]
  },
  {
   "cell_type": "code",
   "execution_count": null,
   "id": "039ccacd",
   "metadata": {},
   "outputs": [],
   "source": [
    "model = BERT_Arch(bert)\n",
    "\n",
    "model = model.to(device)\n",
    "from transformers import AdamW\n",
    "\n",
    "optimizer = AdamW(model.parameters(), lr= 1e-3)"
   ]
  },
  {
   "cell_type": "code",
   "execution_count": null,
   "id": "11e670e8",
   "metadata": {},
   "outputs": [],
   "source": [
    "list(np.unique(train_labels))"
   ]
  },
  {
   "cell_type": "code",
   "execution_count": null,
   "id": "78341cec",
   "metadata": {},
   "outputs": [],
   "source": [
    "from sklearn.utils.class_weight import compute_class_weight\n",
    "\n",
    "class_weights = compute_class_weight('balanced', classes=list(np.unique(train_labels)), y=train_labels)\n",
    "\n",
    "print(class_weights)\n",
    "#[0.8086199  1.31005794]\n",
    "\n",
    "weights = torch.tensor(class_weights, dtype = torch.float)\n",
    "weights = weights.to(device)\n",
    "cross_entropy = nn.CrossEntropyLoss()\n",
    "epochs = 20"
   ]
  },
  {
   "cell_type": "code",
   "execution_count": null,
   "id": "35e04569",
   "metadata": {},
   "outputs": [],
   "source": [
    "def train():\n",
    "    model.train()\n",
    "    total_loss, total_accuracy = 0, 0\n",
    "    total_preds = []\n",
    "    \n",
    "    for step, batch in tqdm(enumerate(train_dataloader), total = len(train_dataloader)):\n",
    "        batch = [r.to(device) for r in batch]\n",
    "        sent_id, mask, labels = batch\n",
    "        model.zero_grad()\n",
    "        preds = model(sent_id, mask)\n",
    "        labels = labels.type(torch.LongTensor).to(device)\n",
    "        #print(preds)\n",
    "        #print(labels)\n",
    "        loss = cross_entropy(preds, labels)#\n",
    "        total_loss += loss.item()\n",
    "        #print(loss.item())\n",
    "        loss.backward()\n",
    "        torch.nn.utils.clip_grad_norm_(model.parameters(), 1.0)\n",
    "        optimizer.step()\n",
    "        preds = preds.detach().cpu().numpy()\n",
    "        total_preds.append(preds)\n",
    "        \n",
    "    avg_loss = total_loss / len(train_dataloader)\n",
    "    total_preds = np.concatenate(total_preds, axis = 0)\n",
    "    \n",
    "    return avg_loss, total_preds"
   ]
  },
  {
   "cell_type": "code",
   "execution_count": null,
   "id": "fa7e0168",
   "metadata": {},
   "outputs": [],
   "source": [
    "def evaluate():\n",
    "    model.eval()\n",
    "    total_loss, total_accuracy = 0,0\n",
    "    total_preds = []\n",
    "\n",
    "    for step, batch in tqdm(enumerate(val_dataloader), total = len(val_dataloader)):\n",
    "        batch = [t.to(device) for t in batch]\n",
    "        sent_id, mask, labels = batch\n",
    "        labels = labels.type(torch.LongTensor).to(device)\n",
    "        \n",
    "        with torch.no_grad():\n",
    "            preds = model(sent_id, mask)\n",
    "            loss = cross_entropy(preds, labels)\n",
    "            total_loss = total_loss + loss.item()\n",
    "            preds = preds.detach().cpu().numpy()\n",
    "            total_preds.append(preds)\n",
    "\n",
    "    avg_loss = total_loss / len(val_dataloader)\n",
    "    total_preds = np.concatenate(total_preds, axis = 0)\n",
    "\n",
    "    return avg_loss, total_preds"
   ]
  },
  {
   "cell_type": "code",
   "execution_count": null,
   "id": "24e1bdbb",
   "metadata": {},
   "outputs": [],
   "source": [
    "best_valid_loss = float('inf')\n",
    "\n",
    "train_losses = []\n",
    "valid_losses = []\n",
    "\n",
    "for epoch in range(epochs):\n",
    "    print('\\n Epoch{:} / {:}'.format(epoch+1, epochs))\n",
    "    \n",
    "    train_loss, _ = train()\n",
    "    valid_loss, _ = evaluate()\n",
    "    \n",
    "    if valid_loss < best_valid_loss:\n",
    "        best_valid_loss = valid_loss\n",
    "        torch.save(model.state_dict(), 'saved_weights.pt')\n",
    "    \n",
    "    train_losses.append(train_loss)\n",
    "    valid_losses.append(valid_loss)\n",
    "    print(f'\\nTraining loss: {train_loss:.3f}')\n",
    "    print(f'Validation loss: {valid_loss:.3f}')"
   ]
  },
  {
   "cell_type": "code",
   "execution_count": null,
   "id": "a5bd3edd",
   "metadata": {},
   "outputs": [],
   "source": [
    "path = 'saved_weights.pt'\n",
    "model.load_state_dict(torch.load(path))"
   ]
  },
  {
   "cell_type": "code",
   "execution_count": null,
   "id": "4bb84eba",
   "metadata": {},
   "outputs": [],
   "source": [
    "import gc\n",
    "gc.collect()\n",
    "torch.cuda.empty_cache()\n",
    "\n",
    "list_seq = np.array_split(test_seq, 50)\n",
    "list_mask = np.array_split(test_mask, 50)\n",
    "\n",
    "\n",
    "predictions = []\n",
    "for num, elem in enumerate(list_seq):\n",
    "    with torch.no_grad():\n",
    "        preds = model(elem.to(device), list_mask[num].to(device))\n",
    "        predictions.append(preds.detach().cpu().numpy())"
   ]
  },
  {
   "cell_type": "code",
   "execution_count": null,
   "id": "c9063fbd",
   "metadata": {},
   "outputs": [],
   "source": [
    "flat_preds = [item[1] for sublist in predictions for item in sublist]\n",
    "flat_preds = (flat_preds - min(flat_preds)) / (max(flat_preds) - min(flat_preds))\n",
    "test_df['confidence'] = flat_preds"
   ]
  },
  {
   "cell_type": "code",
   "execution_count": null,
   "id": "d271ee99",
   "metadata": {},
   "outputs": [],
   "source": [
    "test_df['pred'] = test_df['confidence'].apply(lambda x: 1 if x>0.82 else 0)\n",
    "\n",
    "\n",
    "print(classification_report(test_df['target'], test_df['pred']))"
   ]
  },
  {
   "cell_type": "code",
   "execution_count": null,
   "id": "3222e02d",
   "metadata": {},
   "outputs": [],
   "source": [
    "from sklearn.metrics import roc_auc_score"
   ]
  },
  {
   "cell_type": "code",
   "execution_count": null,
   "id": "aaadfa78",
   "metadata": {},
   "outputs": [],
   "source": [
    "print(roc_auc_score(test_df['target'], test_df['confidence'] ))"
   ]
  },
  {
   "cell_type": "code",
   "execution_count": null,
   "id": "bf683dd8",
   "metadata": {},
   "outputs": [],
   "source": []
  }
 ],
 "metadata": {
  "kernelspec": {
   "display_name": "Python 3 (ipykernel)",
   "language": "python",
   "name": "python3"
  },
  "language_info": {
   "codemirror_mode": {
    "name": "ipython",
    "version": 3
   },
   "file_extension": ".py",
   "mimetype": "text/x-python",
   "name": "python",
   "nbconvert_exporter": "python",
   "pygments_lexer": "ipython3",
   "version": "3.9.10"
  }
 },
 "nbformat": 4,
 "nbformat_minor": 5
}
