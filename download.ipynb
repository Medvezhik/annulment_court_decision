{
 "cells": [
  {
   "cell_type": "code",
   "execution_count": null,
   "id": "47d51e34",
   "metadata": {},
   "outputs": [],
   "source": [
    "from bs4 import BeautifulSoup\n",
    "from fake_useragent import UserAgent\n",
    "import requests\n",
    "import time\n",
    "import random\n",
    "import os"
   ]
  },
  {
   "cell_type": "code",
   "execution_count": null,
   "id": "85b51b65",
   "metadata": {},
   "outputs": [],
   "source": [
    "import warnings\n",
    "warnings.filterwarnings('ignore')"
   ]
  },
  {
   "cell_type": "code",
   "execution_count": null,
   "id": "4d89337b",
   "metadata": {},
   "outputs": [],
   "source": [
    "def get_from_url(fn, url):\n",
    "    if(os.path.exists(fn)):\n",
    "        print(fn)\n",
    "        return open(fn, 'rb').read()\n",
    "    \n",
    "    time.sleep(random.randint(2, 5))\n",
    "    ua = UserAgent()\n",
    "    header = {'User-Agent':str(ua.random)}\n",
    "    responce = requests.get(url, verify = False, headers = header)\n",
    "    print(url, responce.status_code)\n",
    "\n",
    "    if responce.status_code == 200:\n",
    "        if fn != '':\n",
    "            file = open(fn, 'wb')\n",
    "            file.write(responce.content)\n",
    "            file.close()\n",
    "        return responce.text\n",
    "    else:\n",
    "        return ''"
   ]
  },
  {
   "cell_type": "code",
   "execution_count": null,
   "id": "9e7867d0",
   "metadata": {},
   "outputs": [],
   "source": [
    "def parse_list(content):\n",
    "    res = []\n",
    "    soup = BeautifulSoup(content, 'lxml')\n",
    "    table = soup.body.find('table', {\"class\": \"custom_table\"})\n",
    "    for row in table.tbody.childGenerator():\n",
    "        if(row.name=='tr'):\n",
    "            url = row.find('a')\n",
    "            print(url['href'])\n",
    "            res.append(url['href'])\n",
    "    return res"
   ]
  },
  {
   "cell_type": "code",
   "execution_count": null,
   "id": "f3d41253",
   "metadata": {},
   "outputs": [],
   "source": [
    "def parse_case(content):\n",
    "    res = []\n",
    "    soup = BeautifulSoup(content, 'lxml')\n",
    "    table = soup.body.find('div', {'class', 'cardsud_wrapper'})\n",
    "    if table.find('a') != None:\n",
    "        url = table.find('a')['href']\n",
    "        return 'https://www.mos-gorsud.ru' + url\n",
    "    return ''"
   ]
  },
  {
   "cell_type": "code",
   "execution_count": null,
   "id": "3676973b",
   "metadata": {},
   "outputs": [],
   "source": [
    "def parse_info(content):\n",
    "    soup = BeautifulSoup(content, 'lxml')\n",
    "    table = soup.body.find('table', {'class', 'custom_table mainTable'})\n",
    "    for row in table.tbody.childGenerator():\n",
    "        if row.name == 'tr':\n",
    "            key = cut_word(row.find_all('td')[1].text)\n",
    "            if(key == 'Мотивированноерешение'):\n",
    "                if row.find('a') != None:\n",
    "                    url = row.find('a')['href']\n",
    "                    if url != '#':\n",
    "                        return 'https://www.mos-gorsud.ru' + url\n",
    "    return ''"
   ]
  },
  {
   "cell_type": "code",
   "execution_count": null,
   "id": "7c029938",
   "metadata": {},
   "outputs": [],
   "source": [
    "def cut_word(text):\n",
    "    return text.replace(' ','').replace('\\n', '')"
   ]
  },
  {
   "cell_type": "code",
   "execution_count": null,
   "id": "5c6b5d7a",
   "metadata": {},
   "outputs": [],
   "source": [
    "#for page in range(1000, 1030):\n",
    "def get_page(page):\n",
    "    n = 0\n",
    "    content = get_from_url('', 'https://mos-gorsud.ru/mgs/search?caseDateFrom=&caseDateTo=01.08.2022&caseFinalDateFrom=&caseFinalDateTo=&caseLegalForceDateFrom=&caseLegalForceDateTo=&caseNumber=&letterNumber=&category=&codex=&courtAlias=mgs&docsDateFrom=&docsDateTo=&documentStatus=&documentText=&documentType=&instance=2&judge=&participant=&processType=2&publishingState=&uid=&year=&formType=fullForm&page='+str(page))\n",
    "    cases = parse_list(content)\n",
    "    for case in cases:\n",
    "        n += 1\n",
    "        name = str(page).zfill(5)+str(n).zfill(2)\n",
    "        content = get_from_url('case/' + name + '.htm', 'https://mos-gorsud.ru'+case)\n",
    "        url = parse_case(content)\n",
    "        if url != '':\n",
    "            info = get_from_url('info/' + name + '.htm', url)\n",
    "            url = parse_info(info)\n",
    "            if url != '':\n",
    "                get_from_url('doc/' + name + '.doc', url)"
   ]
  },
  {
   "cell_type": "code",
   "execution_count": null,
   "id": "a5c84325",
   "metadata": {},
   "outputs": [],
   "source": [
    "n1 = 8269\n",
    "n2 = 8300\n",
    "page = n1\n",
    "while page<n2:\n",
    "    try:\n",
    "        get_page(page)\n",
    "    except:\n",
    "        print(\"exception\", page)\n",
    "    else:\n",
    "        page +=1"
   ]
  },
  {
   "cell_type": "code",
   "execution_count": null,
   "id": "c345bdaf",
   "metadata": {},
   "outputs": [],
   "source": []
  }
 ],
 "metadata": {
  "kernelspec": {
   "display_name": "Python 3 (ipykernel)",
   "language": "python",
   "name": "python3"
  },
  "language_info": {
   "codemirror_mode": {
    "name": "ipython",
    "version": 3
   },
   "file_extension": ".py",
   "mimetype": "text/x-python",
   "name": "python",
   "nbconvert_exporter": "python",
   "pygments_lexer": "ipython3",
   "version": "3.9.10"
  }
 },
 "nbformat": 4,
 "nbformat_minor": 5
}
