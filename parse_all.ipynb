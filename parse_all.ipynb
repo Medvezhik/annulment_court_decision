{
 "cells": [
  {
   "cell_type": "code",
   "execution_count": 1,
   "id": "18fcebad",
   "metadata": {},
   "outputs": [],
   "source": [
    "from bs4 import BeautifulSoup\n",
    "from win32com import client as wc\n",
    "import os\n",
    "import docx"
   ]
  },
  {
   "cell_type": "code",
   "execution_count": 2,
   "id": "9bc09635",
   "metadata": {},
   "outputs": [],
   "source": [
    "dir_doc = \"C:/Users/Max/Documents/sud/doc/\"\n",
    "dir_info = \"C:/Users/Max/Documents/sud/info/\"\n",
    "dir_case = \"C:/Users/Max/Documents/sud/case/\""
   ]
  },
  {
   "cell_type": "code",
   "execution_count": 3,
   "id": "cd8f5c60",
   "metadata": {},
   "outputs": [],
   "source": [
    "w = wc.Dispatch('Word.AppLication')\n",
    "files = sorted(os.listdir(dir_doc))\n",
    "for name in files:\n",
    "    if name.endswith('.doc'):\n",
    "        if not os.path.exists(dir_doc + name + 'x'):\n",
    "            doc = w.Documents.Open(dir_doc + name)\n",
    "            doc.SaveAs(dir_doc + name + 'x', 16)\n",
    "            doc.Close()\n",
    "w.Quit()    "
   ]
  },
  {
   "cell_type": "code",
   "execution_count": 4,
   "id": "7858a58f",
   "metadata": {},
   "outputs": [],
   "source": [
    "def get_info(name):\n",
    "    d = {}\n",
    "    file = open(name, encoding='utf8')\n",
    "    content = file.read()\n",
    "    soup = BeautifulSoup(content, 'lxml')\n",
    "    table = soup.body.find('div', {'class', 'cardsud_wrapper'})\n",
    "    for row in table.childGenerator():\n",
    "        if row.name!=None:        \n",
    "            key = row.find_all('div')[0].text\n",
    "            val = row.find_all('div')[1].text\n",
    "            key = key.replace(' ','').replace('\\n', '')\n",
    "            val = val.replace('\"', ' ').replace('«', ' ').replace('»', ' ').replace(',', ' ').replace('\\n', '')\n",
    "            val = val.strip()\n",
    "            #print(key, val)\n",
    "            d[key] = val\n",
    "    return d"
   ]
  },
  {
   "cell_type": "code",
   "execution_count": 5,
   "id": "c6bafbc0",
   "metadata": {},
   "outputs": [],
   "source": [
    "def getd(d, key):\n",
    "    if key in d:\n",
    "        return d[key]\n",
    "    else:\n",
    "        return ''"
   ]
  },
  {
   "cell_type": "code",
   "execution_count": 6,
   "id": "00edd819",
   "metadata": {},
   "outputs": [
    {
     "data": {
      "text/plain": [
       "67"
      ]
     },
     "execution_count": 6,
     "metadata": {},
     "output_type": "execute_result"
    }
   ],
   "source": [
    "file = open('mosgorsud.csv', 'w', encoding='utf-8')\n",
    "file.write('id,side,date1,date2,category,status,verdict,verdict_up,reason,text\\n')"
   ]
  },
  {
   "cell_type": "code",
   "execution_count": 7,
   "id": "187f9844",
   "metadata": {},
   "outputs": [
    {
     "data": {
      "text/plain": [
       "{'Уникальныйидентификатордела': '77RS0031-01-2020-009416-66',\n",
       " 'Номердела': '33-30321/2022',\n",
       " 'Стороны': 'Истец: Микеладзе И.Е.Ответчик: Бородин Д.В.',\n",
       " 'Датапоступленияделавапелляционнуюинстанцию': '01.08.2022',\n",
       " 'Датаокончания': '24.08.2022',\n",
       " 'Номерсудебногосостава': '4',\n",
       " 'Номерделавсуденижестоящейинстанции': '02-0180/2021',\n",
       " 'Судпервойинстанции,судья': 'Хорошёвский районный суд (Лутохина Р.А.)',\n",
       " 'Категориядела': '205 - Иски о взыскании сумм по договору займа  кредитному договору',\n",
       " 'Результатрассмотрения': 'Возвращено  24.08.2022'}"
      ]
     },
     "execution_count": 7,
     "metadata": {},
     "output_type": "execute_result"
    }
   ],
   "source": [
    "get_info(dir_case + '0000005.htm')"
   ]
  },
  {
   "cell_type": "code",
   "execution_count": 8,
   "id": "baf8cb67",
   "metadata": {},
   "outputs": [],
   "source": [
    "#for n in range(1, 301):\n",
    "#    name = str(n).zfill(7)\n",
    "#    if os.path.exists('doc/' + name + '.docx'):\n",
    "files = sorted(os.listdir(dir_doc))\n",
    "for name in files:\n",
    "    if name.endswith('.docx'):\n",
    "\n",
    "        d = get_info(dir_info + name[0:8] + 'htm')\n",
    "        file.write(getd(d, 'Уникальныйидентификатордела') + ',')\n",
    "        file.write(getd(d, 'Стороны') + ',')\n",
    "        file.write(getd(d, 'Датапоступления') + ',')\n",
    "        file.write(getd(d, 'Датарассмотренияделавпервойинстанции') + ',')\n",
    "        file.write(getd(d, 'Категориядела') + ',')\n",
    "        file.write(getd(d, 'Текущеесостояние') + ',')\n",
    "        file.write(getd(d, 'Решениеапелляции') + ',')        \n",
    "\n",
    "        d = get_info(dir_case + name[0:8] + 'htm')\n",
    "        file.write(getd(d, 'Результатрассмотрения') + ',')\n",
    "        file.write(getd(d, 'Основаниерешениясуда') + ',')                \n",
    "    \n",
    "        text = ''\n",
    "        doc = docx.Document(dir_doc + name)\n",
    "        for p in doc.paragraphs:\n",
    "            text += p.text + ' '\n",
    "        text = text.replace('\"', ' ').replace('«', ' ').replace('»', ' ').replace('\\n', ' ')\n",
    "        file.write('\"' + text + '\"\\n')\n",
    "file.close()"
   ]
  },
  {
   "cell_type": "code",
   "execution_count": null,
   "id": "5a83ab59",
   "metadata": {},
   "outputs": [],
   "source": []
  },
  {
   "cell_type": "code",
   "execution_count": null,
   "id": "725d6dce",
   "metadata": {},
   "outputs": [],
   "source": []
  }
 ],
 "metadata": {
  "kernelspec": {
   "display_name": "Python 3 (ipykernel)",
   "language": "python",
   "name": "python3"
  },
  "language_info": {
   "codemirror_mode": {
    "name": "ipython",
    "version": 3
   },
   "file_extension": ".py",
   "mimetype": "text/x-python",
   "name": "python",
   "nbconvert_exporter": "python",
   "pygments_lexer": "ipython3",
   "version": "3.9.10"
  }
 },
 "nbformat": 4,
 "nbformat_minor": 5
}
