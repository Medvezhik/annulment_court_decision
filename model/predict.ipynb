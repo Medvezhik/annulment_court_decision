{
 "cells": [
  {
   "cell_type": "code",
   "execution_count": 1,
   "metadata": {
    "_cell_guid": "b1076dfc-b9ad-4769-8c92-a6c4dae69d19",
    "_uuid": "8f2839f25d086af736a60e9eeb907d3b93b6e0e5"
   },
   "outputs": [],
   "source": [
    "import os\n",
    "import re\n",
    "import pandas as pd\n",
    "from joblib import load"
   ]
  },
  {
   "cell_type": "code",
   "execution_count": 2,
   "metadata": {},
   "outputs": [
    {
     "name": "stdout",
     "output_type": "stream",
     "text": [
      "CPU times: user 9.76 s, sys: 1.29 s, total: 11 s\n",
      "Wall time: 10.2 s\n"
     ]
    }
   ],
   "source": [
    "%%time\n",
    "tfidf = load('tfidf.joblib')    \n",
    "lr = load('logreg.joblib')"
   ]
  },
  {
   "cell_type": "code",
   "execution_count": 3,
   "metadata": {},
   "outputs": [],
   "source": [
    "def clear_text(text):\n",
    "    text02 = \" \".join(re.sub(r'\\d-\\d{1,4}\\/\\d{2,4}', ' ', text.lower()).split())\n",
    "    text01 = \" \".join(re.sub(r'\\S{8}-\\d{2}-\\d{4}-\\d{6}-\\d{2}', ' ', text02.lower()).split())\n",
    "    text0 = \" \".join(re.sub(r'\\d{1,2}\\.\\d{1,2}\\.\\d{2,4}', ' ', text01.lower()).split())\n",
    "    text1 = text0.replace('российской федерации', '')\n",
    "    text2 = text1.replace('соответствии', '')\n",
    "    text3 = text2.replace(' ст ', ' ')\n",
    "    text4 = text3.replace(' гк ', ' ')\n",
    "    text5 = text4.replace(' рф ', ' ')\n",
    "    text6 = text5.replace(' в ', ' ')\n",
    "    text7 = text6.replace(' с ', ' ')\n",
    "    text8 = text7.replace('размере', '')\n",
    "    text9 = text8.replace('а также', '')\n",
    "    text10 = text9.replace('также', '')\n",
    "    text11 = text10.replace('решение', '')\n",
    "    text12 = text11.replace('р е ш е н и е', '')\n",
    "    text13 = text12.replace('уид', '')\n",
    "    text14 = text13.replace('именем', '')\n",
    "    text15 = text14.replace('№', ' ')\n",
    "    text16 = text15.replace('город', ' ')\n",
    "    text17 = text16.replace('города', ' ')\n",
    "    return text17"
   ]
  },
  {
   "cell_type": "code",
   "execution_count": 4,
   "metadata": {},
   "outputs": [],
   "source": [
    "def predict(text):\n",
    "    text = clear_text(text)\n",
    "    features = tfidf.transform(pd.Series(text))\n",
    "    return lr.predict_proba(features)[:, 1]"
   ]
  },
  {
   "cell_type": "code",
   "execution_count": null,
   "metadata": {},
   "outputs": [],
   "source": []
  }
 ],
 "metadata": {
  "kernelspec": {
   "display_name": "Python 3 (ipykernel)",
   "language": "python",
   "name": "python3"
  },
  "language_info": {
   "codemirror_mode": {
    "name": "ipython",
    "version": 3
   },
   "file_extension": ".py",
   "mimetype": "text/x-python",
   "name": "python",
   "nbconvert_exporter": "python",
   "pygments_lexer": "ipython3",
   "version": "3.10.6"
  }
 },
 "nbformat": 4,
 "nbformat_minor": 1
}
