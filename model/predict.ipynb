{
 "cells": [
  {
   "cell_type": "code",
   "execution_count": 1,
   "metadata": {
    "_cell_guid": "b1076dfc-b9ad-4769-8c92-a6c4dae69d19",
    "_uuid": "8f2839f25d086af736a60e9eeb907d3b93b6e0e5"
   },
   "outputs": [],
   "source": [
    "import os\n",
    "import re\n",
    "import pandas as pd\n",
    "from joblib import load\n",
    "import ru_core_news_sm as ru"
   ]
  },
  {
   "cell_type": "code",
   "execution_count": 2,
   "metadata": {
    "scrolled": true
   },
   "outputs": [
    {
     "name": "stdout",
     "output_type": "stream",
     "text": [
      "CPU times: total: 32.2 s\n",
      "Wall time: 33.3 s\n"
     ]
    }
   ],
   "source": [
    "%%time\n",
    "tfidf = load('tfidf.joblib')    \n",
    "lr = load('logreg.joblib')\n",
    "lem = ru.load()"
   ]
  },
  {
   "cell_type": "code",
   "execution_count": 3,
   "metadata": {},
   "outputs": [],
   "source": [
    "def convert(text):\n",
    "    text = text.lower()\n",
    "    text = \" \".join(re.sub(r'[^u\"а-яА-Я\"]', ' ', text).split()) #удаляем не буквы\n",
    "    text = \" \".join(re.sub(r'(^|\\s)\\w{1}(\\s\\w{1})*($|\\s)', ' ', text).split()) #удаляем слова из 1 буквы\n",
    "    \n",
    "    doc = lem(text)\n",
    "    text = \" \".join(token.lemma_ for token in doc)\n",
    "    return text"
   ]
  },
  {
   "cell_type": "code",
   "execution_count": 4,
   "metadata": {},
   "outputs": [],
   "source": [
    "def predict(text):\n",
    "    text = convert(text)\n",
    "    features = tfidf.transform(pd.Series(text))\n",
    "    return lr.predict_proba(features)[:, 1]"
   ]
  }
 ],
 "metadata": {
  "kernelspec": {
   "display_name": "Python 3 (ipykernel)",
   "language": "python",
   "name": "python3"
  },
  "language_info": {
   "codemirror_mode": {
    "name": "ipython",
    "version": 3
   },
   "file_extension": ".py",
   "mimetype": "text/x-python",
   "name": "python",
   "nbconvert_exporter": "python",
   "pygments_lexer": "ipython3",
   "version": "3.9.10"
  }
 },
 "nbformat": 4,
 "nbformat_minor": 1
}
